{
  "nbformat": 4,
  "nbformat_minor": 0,
  "metadata": {
    "colab": {
      "name": "firstapp.ipynb",
      "version": "0.3.2",
      "provenance": [],
      "collapsed_sections": []
    },
    "kernelspec": {
      "name": "python2",
      "display_name": "Python 2"
    },
    "accelerator": "GPU"
  },
  "cells": [
    {
      "cell_type": "markdown",
      "metadata": {
        "id": "view-in-github",
        "colab_type": "text"
      },
      "source": [
        "[View in Colaboratory](https://colab.research.google.com/github/lengzi/DeepLearningCourseCodes/blob/master/firstapp.ipynb)"
      ]
    },
    {
      "metadata": {
        "id": "cRCb1MenGeou",
        "colab_type": "code",
        "colab": {
          "base_uri": "https://localhost:8080/",
          "height": 34
        },
        "outputId": "0ed9ee07-b562-4b37-ba74-993eaa5178a9"
      },
      "cell_type": "code",
      "source": [
        "x=5\n",
        "y=6\n",
        "print(\"x+y=%d\" % (x+y))"
      ],
      "execution_count": 1,
      "outputs": [
        {
          "output_type": "stream",
          "text": [
            "x+y=11\n"
          ],
          "name": "stdout"
        }
      ]
    },
    {
      "metadata": {
        "id": "ptVK7exuHPNV",
        "colab_type": "text"
      },
      "cell_type": "markdown",
      "source": [
        "测试一下"
      ]
    },
    {
      "metadata": {
        "id": "HWz3serfHmqU",
        "colab_type": "code",
        "colab": {
          "base_uri": "https://localhost:8080/",
          "height": 207
        },
        "outputId": "dad580e1-a5e5-46a6-a628-29edfa75ac1b"
      },
      "cell_type": "code",
      "source": [
        "!apt-get install -y -qq software-properties-common python-software-properties module-init-tools\n",
        "!add-apt-repository -y ppa:alessandro-strada/ppa 2>&1 > /dev/null\n",
        "!apt-get update -qq 2>&1 > /dev/null\n",
        "!apt-get -y install -qq google-drive-ocamlfuse fuse\n",
        "from google.colab import auth\n",
        "auth.authenticate_user()\n",
        "from oauth2client.client import GoogleCredentials\n",
        "creds = GoogleCredentials.get_application_default()\n",
        "import getpass\n",
        "!google-drive-ocamlfuse -headless -id={creds.client_id} -secret={creds.client_secret} < /dev/null 2>&1 | grep URL\n",
        "vcode = getpass.getpass()\n",
        "!echo {vcode} | google-drive-ocamlfuse -headless -id={creds.client_id} -secret={creds.client_secret}"
      ],
      "execution_count": 3,
      "outputs": [
        {
          "output_type": "stream",
          "text": [
            "gpg: keybox '/tmp/tmp3dckea_4/pubring.gpg' created\n",
            "gpg: /tmp/tmp3dckea_4/trustdb.gpg: trustdb created\n",
            "gpg: key AD5F235DF639B041: public key \"Launchpad PPA for Alessandro Strada\" imported\n",
            "gpg: Total number processed: 1\n",
            "gpg:               imported: 1\n",
            "Warning: apt-key output should not be parsed (stdout is not a terminal)\n",
            "Please, open the following URL in a web browser: https://accounts.google.com/o/oauth2/auth?client_id=32555940559.apps.googleusercontent.com&redirect_uri=urn%3Aietf%3Awg%3Aoauth%3A2.0%3Aoob&scope=https%3A%2F%2Fwww.googleapis.com%2Fauth%2Fdrive&response_type=code&access_type=offline&approval_prompt=force\n",
            "··········\n",
            "Please, open the following URL in a web browser: https://accounts.google.com/o/oauth2/auth?client_id=32555940559.apps.googleusercontent.com&redirect_uri=urn%3Aietf%3Awg%3Aoauth%3A2.0%3Aoob&scope=https%3A%2F%2Fwww.googleapis.com%2Fauth%2Fdrive&response_type=code&access_type=offline&approval_prompt=force\n",
            "Please enter the verification code: Access token retrieved correctly.\n"
          ],
          "name": "stdout"
        }
      ]
    },
    {
      "metadata": {
        "id": "d1rSJZRGY44w",
        "colab_type": "code",
        "colab": {}
      },
      "cell_type": "code",
      "source": [
        "!mkdir -p drive\n",
        "!google-drive-ocamlfuse drive"
      ],
      "execution_count": 0,
      "outputs": []
    },
    {
      "metadata": {
        "id": "IiONmZ3iLFrI",
        "colab_type": "text"
      },
      "cell_type": "markdown",
      "source": [
        "为什么 不行啊"
      ]
    },
    {
      "metadata": {
        "id": "G2XQmqDeZ3nb",
        "colab_type": "code",
        "colab": {
          "base_uri": "https://localhost:8080/",
          "height": 204
        },
        "outputId": "1ed229bd-ed82-4e08-8f9e-6916de330264"
      },
      "cell_type": "code",
      "source": [
        "!cat drive/colab1.py\n"
      ],
      "execution_count": 7,
      "outputs": [
        {
          "output_type": "stream",
          "text": [
            "import tensorflow as tf\r\n",
            "import numpy as np\r\n",
            "\r\n",
            "with tf.Session():\r\n",
            "  input1 = tf.constant(1.0, shape=[2, 3])\r\n",
            "  input2 = tf.constant(np.reshape(np.arange(1.0, 7.0, dtype=np.float32), (2, 3)))\r\n",
            "  output = tf.add(input1, input2)\r\n",
            "  result = output.eval()\r\n",
            "  print(\"matrix a:\\n %s\\n\" % input1.eval())\r\n",
            "  print(\"matrix b:\\n %s\\n\" % input2.eval())\r\n",
            "  print(\"a + b:\\n %s\\n\" % result)\r\n"
          ],
          "name": "stdout"
        }
      ]
    },
    {
      "metadata": {
        "id": "hvyLHDR-awit",
        "colab_type": "code",
        "colab": {
          "base_uri": "https://localhost:8080/",
          "height": 445
        },
        "outputId": "a92d5cc1-29a0-42e6-d9ff-b743cda72e5d"
      },
      "cell_type": "code",
      "source": [
        "!python drive/colab1.py\n"
      ],
      "execution_count": 8,
      "outputs": [
        {
          "output_type": "stream",
          "text": [
            "/usr/local/lib/python2.7/dist-packages/h5py/__init__.py:36: FutureWarning: Conversion of the second argument of issubdtype from `float` to `np.floating` is deprecated. In future, it will be treated as `np.float64 == np.dtype(float).type`.\r\n",
            "  from ._conv import register_converters as _register_converters\n",
            "2018-06-13 04:35:31.644613: I tensorflow/stream_executor/cuda/cuda_gpu_executor.cc:898] successful NUMA node read from SysFS had negative value (-1), but there must be at least one NUMA node, so returning NUMA node zero\n",
            "2018-06-13 04:35:31.645273: I tensorflow/core/common_runtime/gpu/gpu_device.cc:1356] Found device 0 with properties: \n",
            "name: Tesla K80 major: 3 minor: 7 memoryClockRate(GHz): 0.8235\n",
            "pciBusID: 0000:00:04.0\n",
            "totalMemory: 11.17GiB freeMemory: 11.10GiB\n",
            "2018-06-13 04:35:31.645362: I tensorflow/core/common_runtime/gpu/gpu_device.cc:1435] Adding visible gpu devices: 0\n",
            "2018-06-13 04:35:32.019498: I tensorflow/core/common_runtime/gpu/gpu_device.cc:923] Device interconnect StreamExecutor with strength 1 edge matrix:\n",
            "2018-06-13 04:35:32.019555: I tensorflow/core/common_runtime/gpu/gpu_device.cc:929]      0 \n",
            "2018-06-13 04:35:32.019570: I tensorflow/core/common_runtime/gpu/gpu_device.cc:942] 0:   N \n",
            "2018-06-13 04:35:32.019877: I tensorflow/core/common_runtime/gpu/gpu_device.cc:1053] Created TensorFlow device (/job:localhost/replica:0/task:0/device:GPU:0 with 10765 MB memory) -> physical GPU (device: 0, name: Tesla K80, pci bus id: 0000:00:04.0, compute capability: 3.7)\n",
            "matrix a:\n",
            " [[1. 1. 1.]\n",
            " [1. 1. 1.]]\n",
            "\n",
            "matrix b:\n",
            " [[1. 2. 3.]\n",
            " [4. 5. 6.]]\n",
            "\n",
            "a + b:\n",
            " [[2. 3. 4.]\n",
            " [5. 6. 7.]]\n",
            "\n"
          ],
          "name": "stdout"
        }
      ]
    },
    {
      "metadata": {
        "id": "SafM2pivx_PU",
        "colab_type": "code",
        "colab": {
          "base_uri": "https://localhost:8080/",
          "height": 204
        },
        "outputId": "c88b2cc7-66d7-48d4-bcd0-4dd746a412a8"
      },
      "cell_type": "code",
      "source": [
        "!wget https://raw.githubusercontent.com/vincentarelbundock/Rdatasets/master/csv/datasets/Titanic.csv -P drive/"
      ],
      "execution_count": 9,
      "outputs": [
        {
          "output_type": "stream",
          "text": [
            "--2018-06-13 06:14:42--  https://raw.githubusercontent.com/vincentarelbundock/Rdatasets/master/csv/datasets/Titanic.csv\r\n",
            "Resolving raw.githubusercontent.com (raw.githubusercontent.com)... 151.101.0.133, 151.101.64.133, 151.101.128.133, ...\r\n",
            "Connecting to raw.githubusercontent.com (raw.githubusercontent.com)|151.101.0.133|:443... connected.\n",
            "HTTP request sent, awaiting response... 200 OK\n",
            "Length: 1170 (1.1K) [text/plain]\n",
            "Saving to: ‘drive/Titanic.csv’\n",
            "\n",
            "Titanic.csv         100%[===================>]   1.14K  --.-KB/s    in 0s      \n",
            "\n",
            "2018-06-13 06:14:44 (71.4 MB/s) - ‘drive/Titanic.csv’ saved [1170/1170]\n",
            "\n"
          ],
          "name": "stdout"
        }
      ]
    },
    {
      "metadata": {
        "id": "RF6FWu8JyUoi",
        "colab_type": "code",
        "colab": {
          "base_uri": "https://localhost:8080/",
          "height": 204
        },
        "outputId": "b21bea04-816a-49b2-984f-20715190afc9"
      },
      "cell_type": "code",
      "source": [
        "# 读取文件，然后显示前五行\n",
        "import pandas as pd\n",
        "titanic = pd.read_csv(\"drive/Titanic.csv\")\n",
        "titanic.head(5)"
      ],
      "execution_count": 10,
      "outputs": [
        {
          "output_type": "execute_result",
          "data": {
            "text/html": [
              "<div>\n",
              "<style scoped>\n",
              "    .dataframe tbody tr th:only-of-type {\n",
              "        vertical-align: middle;\n",
              "    }\n",
              "\n",
              "    .dataframe tbody tr th {\n",
              "        vertical-align: top;\n",
              "    }\n",
              "\n",
              "    .dataframe thead th {\n",
              "        text-align: right;\n",
              "    }\n",
              "</style>\n",
              "<table border=\"1\" class=\"dataframe\">\n",
              "  <thead>\n",
              "    <tr style=\"text-align: right;\">\n",
              "      <th></th>\n",
              "      <th>Unnamed: 0</th>\n",
              "      <th>Class</th>\n",
              "      <th>Sex</th>\n",
              "      <th>Age</th>\n",
              "      <th>Survived</th>\n",
              "      <th>Freq</th>\n",
              "    </tr>\n",
              "  </thead>\n",
              "  <tbody>\n",
              "    <tr>\n",
              "      <th>0</th>\n",
              "      <td>1</td>\n",
              "      <td>1st</td>\n",
              "      <td>Male</td>\n",
              "      <td>Child</td>\n",
              "      <td>No</td>\n",
              "      <td>0</td>\n",
              "    </tr>\n",
              "    <tr>\n",
              "      <th>1</th>\n",
              "      <td>2</td>\n",
              "      <td>2nd</td>\n",
              "      <td>Male</td>\n",
              "      <td>Child</td>\n",
              "      <td>No</td>\n",
              "      <td>0</td>\n",
              "    </tr>\n",
              "    <tr>\n",
              "      <th>2</th>\n",
              "      <td>3</td>\n",
              "      <td>3rd</td>\n",
              "      <td>Male</td>\n",
              "      <td>Child</td>\n",
              "      <td>No</td>\n",
              "      <td>35</td>\n",
              "    </tr>\n",
              "    <tr>\n",
              "      <th>3</th>\n",
              "      <td>4</td>\n",
              "      <td>Crew</td>\n",
              "      <td>Male</td>\n",
              "      <td>Child</td>\n",
              "      <td>No</td>\n",
              "      <td>0</td>\n",
              "    </tr>\n",
              "    <tr>\n",
              "      <th>4</th>\n",
              "      <td>5</td>\n",
              "      <td>1st</td>\n",
              "      <td>Female</td>\n",
              "      <td>Child</td>\n",
              "      <td>No</td>\n",
              "      <td>0</td>\n",
              "    </tr>\n",
              "  </tbody>\n",
              "</table>\n",
              "</div>"
            ],
            "text/plain": [
              "   Unnamed: 0 Class     Sex    Age Survived  Freq\n",
              "0           1   1st    Male  Child       No     0\n",
              "1           2   2nd    Male  Child       No     0\n",
              "2           3   3rd    Male  Child       No    35\n",
              "3           4  Crew    Male  Child       No     0\n",
              "4           5   1st  Female  Child       No     0"
            ]
          },
          "metadata": {
            "tags": []
          },
          "execution_count": 10
        }
      ]
    },
    {
      "metadata": {
        "id": "ypxST5tzyde1",
        "colab_type": "code",
        "colab": {
          "base_uri": "https://localhost:8080/",
          "height": 1275
        },
        "outputId": "3323ca0a-e893-4647-91eb-49b26a366e63"
      },
      "cell_type": "code",
      "source": [
        "!python -v"
      ],
      "execution_count": 11,
      "outputs": [
        {
          "output_type": "stream",
          "text": [
            "# installing zipimport hook\r\n",
            "import zipimport # builtin\r\n",
            "# installed zipimport hook\r\n",
            "# /usr/lib/python2.7/site.pyc matches /usr/lib/python2.7/site.py\r\n",
            "import site # precompiled from /usr/lib/python2.7/site.pyc\r\n",
            "# /usr/lib/python2.7/os.pyc matches /usr/lib/python2.7/os.py\r\n",
            "import os # precompiled from /usr/lib/python2.7/os.pyc\r\n",
            "import errno # builtin\r\n",
            "import posix # builtin\r\n",
            "# /usr/lib/python2.7/posixpath.pyc matches /usr/lib/python2.7/posixpath.py\r\n",
            "import posixpath # precompiled from /usr/lib/python2.7/posixpath.pyc\r\n",
            "# /usr/lib/python2.7/stat.pyc matches /usr/lib/python2.7/stat.py\r\n",
            "import stat # precompiled from /usr/lib/python2.7/stat.pyc\r\n",
            "# /usr/lib/python2.7/genericpath.pyc matches /usr/lib/python2.7/genericpath.py\r\n",
            "import genericpath # precompiled from /usr/lib/python2.7/genericpath.pyc\r\n",
            "# /usr/lib/python2.7/warnings.pyc matches /usr/lib/python2.7/warnings.py\r\n",
            "import warnings # precompiled from /usr/lib/python2.7/warnings.pyc\r\n",
            "# /usr/lib/python2.7/linecache.pyc matches /usr/lib/python2.7/linecache.py\r\n",
            "import linecache # precompiled from /usr/lib/python2.7/linecache.pyc\r\n",
            "# /usr/lib/python2.7/types.pyc matches /usr/lib/python2.7/types.py\r\n",
            "import types # precompiled from /usr/lib/python2.7/types.pyc\r\n",
            "# /usr/lib/python2.7/UserDict.pyc matches /usr/lib/python2.7/UserDict.py\r\n",
            "import UserDict # precompiled from /usr/lib/python2.7/UserDict.pyc\r\n",
            "# /usr/lib/python2.7/_abcoll.pyc matches /usr/lib/python2.7/_abcoll.py\r\n",
            "import _abcoll # precompiled from /usr/lib/python2.7/_abcoll.pyc\r\n",
            "# /usr/lib/python2.7/abc.pyc matches /usr/lib/python2.7/abc.py\r\n",
            "import abc # precompiled from /usr/lib/python2.7/abc.pyc\r\n",
            "# /usr/lib/python2.7/_weakrefset.pyc matches /usr/lib/python2.7/_weakrefset.py\r\n",
            "import _weakrefset # precompiled from /usr/lib/python2.7/_weakrefset.pyc\r\n",
            "import _weakref # builtin\r\n",
            "# /usr/lib/python2.7/copy_reg.pyc matches /usr/lib/python2.7/copy_reg.py\r\n",
            "import copy_reg # precompiled from /usr/lib/python2.7/copy_reg.pyc\r\n",
            "# /usr/lib/python2.7/traceback.pyc matches /usr/lib/python2.7/traceback.py\r\n",
            "import traceback # precompiled from /usr/lib/python2.7/traceback.pyc\r\n",
            "# /usr/lib/python2.7/sysconfig.pyc matches /usr/lib/python2.7/sysconfig.py\r\n",
            "import sysconfig # precompiled from /usr/lib/python2.7/sysconfig.pyc\r\n",
            "# /usr/lib/python2.7/re.pyc matches /usr/lib/python2.7/re.py\r\n",
            "import re # precompiled from /usr/lib/python2.7/re.pyc\r\n",
            "# /usr/lib/python2.7/sre_compile.pyc matches /usr/lib/python2.7/sre_compile.py\r\n",
            "import sre_compile # precompiled from /usr/lib/python2.7/sre_compile.pyc\r\n",
            "import _sre # builtin\r\n",
            "# /usr/lib/python2.7/sre_parse.pyc matches /usr/lib/python2.7/sre_parse.py\r\n",
            "import sre_parse # precompiled from /usr/lib/python2.7/sre_parse.pyc\r\n",
            "# /usr/lib/python2.7/sre_constants.pyc matches /usr/lib/python2.7/sre_constants.py\r\n",
            "import sre_constants # precompiled from /usr/lib/python2.7/sre_constants.pyc\r\n",
            "import _locale # builtin\r\n",
            "# /usr/lib/python2.7/_sysconfigdata.pyc matches /usr/lib/python2.7/_sysconfigdata.py\r\n",
            "import _sysconfigdata # precompiled from /usr/lib/python2.7/_sysconfigdata.pyc\r\n",
            "# /usr/lib/python2.7/plat-x86_64-linux-gnu/_sysconfigdata_nd.pyc matches /usr/lib/python2.7/plat-x86_64-linux-gnu/_sysconfigdata_nd.py\r\n",
            "import _sysconfigdata_nd # precompiled from /usr/lib/python2.7/plat-x86_64-linux-gnu/_sysconfigdata_nd.pyc\r\n",
            "# /usr/lib/python2.7/sitecustomize.pyc matches /usr/lib/python2.7/sitecustomize.py\r\n",
            "import sitecustomize # precompiled from /usr/lib/python2.7/sitecustomize.pyc\r\n",
            "import encodings # directory /usr/lib/python2.7/encodings\r\n",
            "# /usr/lib/python2.7/encodings/__init__.pyc matches /usr/lib/python2.7/encodings/__init__.py\r\n",
            "import encodings # precompiled from /usr/lib/python2.7/encodings/__init__.pyc\r\n",
            "# /usr/lib/python2.7/codecs.pyc matches /usr/lib/python2.7/codecs.py\r\n",
            "import codecs # precompiled from /usr/lib/python2.7/codecs.pyc\r\n",
            "import _codecs # builtin\r\n",
            "# /usr/lib/python2.7/encodings/aliases.pyc matches /usr/lib/python2.7/encodings/aliases.py\r\n",
            "import encodings.aliases # precompiled from /usr/lib/python2.7/encodings/aliases.pyc\r\n",
            "# /usr/lib/python2.7/encodings/utf_8.pyc matches /usr/lib/python2.7/encodings/utf_8.py\r\n",
            "import encodings.utf_8 # precompiled from /usr/lib/python2.7/encodings/utf_8.pyc\r\n",
            "Python 2.7.14 (default, Sep 23 2017, 22:06:14) \r\n",
            "[GCC 7.2.0] on linux2\r\n",
            "Type \"help\", \"copyright\", \"credits\" or \"license\" for more information.\r\n",
            "dlopen(\"/usr/lib/python2.7/lib-dynload/readline.x86_64-linux-gnu.so\", 2);\r\n",
            "import readline # dynamically loaded from /usr/lib/python2.7/lib-dynload/readline.x86_64-linux-gnu.so\n",
            ">>> \n",
            "\n",
            "Traceback (most recent call last):\n",
            "  File \"/usr/lib/python2.7/encodings/utf_8.py\", line 15, in decode\n",
            "    def decode(input, errors='strict'):\n",
            "KeyboardInterrupt\n",
            ">>> "
          ],
          "name": "stdout"
        }
      ]
    },
    {
      "metadata": {
        "id": "GKSMWLoPy3lb",
        "colab_type": "code",
        "colab": {
          "base_uri": "https://localhost:8080/",
          "height": 163
        },
        "outputId": "0a308064-7693-40da-f1c4-d31e04cd55d3"
      },
      "cell_type": "code",
      "source": [
        "python -v"
      ],
      "execution_count": 12,
      "outputs": [
        {
          "output_type": "error",
          "ename": "NameError",
          "evalue": "ignored",
          "traceback": [
            "\u001b[0;31m\u001b[0m",
            "\u001b[0;31mNameError\u001b[0mTraceback (most recent call last)",
            "\u001b[0;32m<ipython-input-12-4c1899a86226>\u001b[0m in \u001b[0;36m<module>\u001b[0;34m()\u001b[0m\n\u001b[0;32m----> 1\u001b[0;31m \u001b[0mpython\u001b[0m \u001b[0;34m-\u001b[0m\u001b[0mv\u001b[0m\u001b[0;34m\u001b[0m\u001b[0m\n\u001b[0m",
            "\u001b[0;31mNameError\u001b[0m: name 'python' is not defined"
          ]
        }
      ]
    },
    {
      "metadata": {
        "id": "7bI2injd0IBO",
        "colab_type": "code",
        "colab": {
          "base_uri": "https://localhost:8080/",
          "height": 34
        },
        "outputId": "ec84dc29-e1c6-4519-9522-8dbfd1f372b8"
      },
      "cell_type": "code",
      "source": [
        "# 通过 pip 安装python依赖包\n",
        "!pip install -q xgboost==0.4a30\n",
        "import xgboost\n",
        "xgboost.__version__"
      ],
      "execution_count": 13,
      "outputs": [
        {
          "output_type": "execute_result",
          "data": {
            "text/plain": [
              "'0.4'"
            ]
          },
          "metadata": {
            "tags": []
          },
          "execution_count": 13
        }
      ]
    },
    {
      "metadata": {
        "id": "orJ5vd3r0lS_",
        "colab_type": "code",
        "colab": {
          "base_uri": "https://localhost:8080/",
          "height": 1686
        },
        "outputId": "8c7b5c03-f22f-4e92-bd26-c5e99646803b"
      },
      "cell_type": "code",
      "source": [
        "# 查看cpu信息\n",
        "!cat /proc/cpuinfo\n",
        "\n",
        "# 查看RAM信息\n",
        "!cat /proc/meminfo"
      ],
      "execution_count": 14,
      "outputs": [
        {
          "output_type": "stream",
          "text": [
            "processor\t: 0\r\n",
            "vendor_id\t: GenuineIntel\r\n",
            "cpu family\t: 6\r\n",
            "model\t\t: 63\r\n",
            "model name\t: Intel(R) Xeon(R) CPU @ 2.30GHz\r\n",
            "stepping\t: 0\r\n",
            "microcode\t: 0x1\r\n",
            "cpu MHz\t\t: 2300.000\r\n",
            "cache size\t: 46080 KB\r\n",
            "physical id\t: 0\r\n",
            "siblings\t: 2\r\n",
            "core id\t\t: 0\r\n",
            "cpu cores\t: 1\r\n",
            "apicid\t\t: 0\r\n",
            "initial apicid\t: 0\r\n",
            "fpu\t\t: yes\r\n",
            "fpu_exception\t: yes\r\n",
            "cpuid level\t: 13\r\n",
            "wp\t\t: yes\r\n",
            "flags\t\t: fpu vme de pse tsc msr pae mce cx8 apic sep mtrr pge mca cmov pat pse36 clflush mmx fxsr sse sse2 ss ht syscall nx pdpe1gb rdtscp lm constant_tsc rep_good nopl xtopology nonstop_tsc eagerfpu pni pclmulqdq ssse3 fma cx16 sse4_1 sse4_2 x2apic movbe popcnt aes xsave avx f16c rdrand hypervisor lahf_lm abm kaiser fsgsbase tsc_adjust bmi1 avx2 smep bmi2 erms xsaveopt\r\n",
            "bugs\t\t:\r\n",
            "bogomips\t: 4600.00\r\n",
            "clflush size\t: 64\r\n",
            "cache_alignment\t: 64\r\n",
            "address sizes\t: 46 bits physical, 48 bits virtual\r\n",
            "power management:\r\n",
            "\r\n",
            "processor\t: 1\r\n",
            "vendor_id\t: GenuineIntel\r\n",
            "cpu family\t: 6\r\n",
            "model\t\t: 63\r\n",
            "model name\t: Intel(R) Xeon(R) CPU @ 2.30GHz\r\n",
            "stepping\t: 0\r\n",
            "microcode\t: 0x1\r\n",
            "cpu MHz\t\t: 2300.000\r\n",
            "cache size\t: 46080 KB\r\n",
            "physical id\t: 0\r\n",
            "siblings\t: 2\r\n",
            "core id\t\t: 0\r\n",
            "cpu cores\t: 1\r\n",
            "apicid\t\t: 1\r\n",
            "initial apicid\t: 1\r\n",
            "fpu\t\t: yes\r\n",
            "fpu_exception\t: yes\r\n",
            "cpuid level\t: 13\r\n",
            "wp\t\t: yes\r\n",
            "flags\t\t: fpu vme de pse tsc msr pae mce cx8 apic sep mtrr pge mca cmov pat pse36 clflush mmx fxsr sse sse2 ss ht syscall nx pdpe1gb rdtscp lm constant_tsc rep_good nopl xtopology nonstop_tsc eagerfpu pni pclmulqdq ssse3 fma cx16 sse4_1 sse4_2 x2apic movbe popcnt aes xsave avx f16c rdrand hypervisor lahf_lm abm kaiser fsgsbase tsc_adjust bmi1 avx2 smep bmi2 erms xsaveopt\r\n",
            "bugs\t\t:\r\n",
            "bogomips\t: 4600.00\r\n",
            "clflush size\t: 64\r\n",
            "cache_alignment\t: 64\r\n",
            "address sizes\t: 46 bits physical, 48 bits virtual\r\n",
            "power management:\r\n",
            "\n",
            "MemTotal:       13341832 kB\n",
            "MemFree:         1851048 kB\n",
            "MemAvailable:   12281412 kB\n",
            "Buffers:          167896 kB\n",
            "Cached:         10203104 kB\n",
            "SwapCached:            0 kB\n",
            "Active:          3382108 kB\n",
            "Inactive:        7435296 kB\n",
            "Active(anon):     616864 kB\n",
            "Inactive(anon):    83460 kB\n",
            "Active(file):    2765244 kB\n",
            "Inactive(file):  7351836 kB\n",
            "Unevictable:           0 kB\n",
            "Mlocked:               0 kB\n",
            "SwapTotal:             0 kB\n",
            "SwapFree:              0 kB\n",
            "Dirty:               408 kB\n",
            "Writeback:             0 kB\n",
            "AnonPages:        446452 kB\n",
            "Mapped:           181020 kB\n",
            "Shmem:            253928 kB\n",
            "Slab:             595200 kB\n",
            "SReclaimable:     566700 kB\n",
            "SUnreclaim:        28500 kB\n",
            "KernelStack:        3392 kB\n",
            "PageTables:         6364 kB\n",
            "NFS_Unstable:          0 kB\n",
            "Bounce:                0 kB\n",
            "WritebackTmp:          0 kB\n",
            "CommitLimit:     6670916 kB\n",
            "Committed_AS:    1926916 kB\n",
            "VmallocTotal:   34359738367 kB\n",
            "VmallocUsed:           0 kB\n",
            "VmallocChunk:          0 kB\n",
            "AnonHugePages:         0 kB\n",
            "HugePages_Total:       0\n",
            "HugePages_Free:        0\n",
            "HugePages_Rsvd:        0\n",
            "HugePages_Surp:        0\n",
            "Hugepagesize:       2048 kB\n",
            "DirectMap4k:      165836 kB\n",
            "DirectMap2M:     4028416 kB\n",
            "DirectMap1G:    11534336 kB\n"
          ],
          "name": "stdout"
        }
      ]
    },
    {
      "metadata": {
        "id": "IQoVq_qd1Ko2",
        "colab_type": "code",
        "colab": {
          "base_uri": "https://localhost:8080/",
          "height": 340
        },
        "outputId": "b434055f-c1b3-4912-f02b-aa5cddd6653a"
      },
      "cell_type": "code",
      "source": [
        "#check the state of  GPU\n",
        "import tensorflow as tf\n",
        "\n",
        "print(\"gpu_devices_name:%s\"% tf.test.gpu_device_name())\n",
        "print(\"-\".center(100,\"-\"))\n",
        "from tensorflow.python.client import device_lib\n",
        "print(\"List_local_devices:%s\"%device_lib.list_local_devices())"
      ],
      "execution_count": 17,
      "outputs": [
        {
          "output_type": "stream",
          "text": [
            "gpu_devices_name:/device:GPU:0\n",
            "----------------------------------------------------------------------------------------------------\n",
            "List_local_devices:[name: \"/device:CPU:0\"\n",
            "device_type: \"CPU\"\n",
            "memory_limit: 268435456\n",
            "locality {\n",
            "}\n",
            "incarnation: 5233564443539894949\n",
            ", name: \"/device:GPU:0\"\n",
            "device_type: \"GPU\"\n",
            "memory_limit: 11287966516\n",
            "locality {\n",
            "  bus_id: 1\n",
            "  links {\n",
            "  }\n",
            "}\n",
            "incarnation: 3618330680374961685\n",
            "physical_device_desc: \"device: 0, name: Tesla K80, pci bus id: 0000:00:04.0, compute capability: 3.7\"\n",
            "]\n"
          ],
          "name": "stdout"
        }
      ]
    }
  ]
}